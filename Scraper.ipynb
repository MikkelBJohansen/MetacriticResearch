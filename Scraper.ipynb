{
 "cells": [
  {
   "cell_type": "code",
   "execution_count": null,
   "id": "b994de3d-2cd0-4f91-9a58-4a2dbec5d0bd",
   "metadata": {},
   "outputs": [],
   "source": [
    "### PACKAGES SETUP ###\n",
    "import requests\n",
    "from bs4 import BeautifulSoup\n",
    "import time\n",
    "import csv\n",
    "import random\n",
    "import os"
   ]
  },
  {
   "cell_type": "code",
   "execution_count": 3,
   "id": "af16532c-598f-411a-b2ff-25f4d7257fea",
   "metadata": {},
   "outputs": [
    {
     "ename": "NameError",
     "evalue": "name 'os' is not defined",
     "output_type": "error",
     "traceback": [
      "\u001b[0;31m---------------------------------------------------------------------------\u001b[0m",
      "\u001b[0;31mNameError\u001b[0m                                 Traceback (most recent call last)",
      "Cell \u001b[0;32mIn[3], line 14\u001b[0m\n\u001b[1;32m     11\u001b[0m last_scraped_page \u001b[38;5;241m=\u001b[39m \u001b[38;5;241m0\u001b[39m\n\u001b[1;32m     12\u001b[0m last_game_name \u001b[38;5;241m=\u001b[39m \u001b[38;5;28;01mNone\u001b[39;00m\n\u001b[0;32m---> 14\u001b[0m \u001b[38;5;28;01mif\u001b[39;00m os\u001b[38;5;241m.\u001b[39mpath\u001b[38;5;241m.\u001b[39mexists(\u001b[38;5;124m'\u001b[39m\u001b[38;5;124mMC_DF3.csv\u001b[39m\u001b[38;5;124m'\u001b[39m):\n\u001b[1;32m     15\u001b[0m     \u001b[38;5;28;01mwith\u001b[39;00m \u001b[38;5;28mopen\u001b[39m(\u001b[38;5;124m'\u001b[39m\u001b[38;5;124mMC_DF3.csv\u001b[39m\u001b[38;5;124m'\u001b[39m, \u001b[38;5;124m'\u001b[39m\u001b[38;5;124mr\u001b[39m\u001b[38;5;124m'\u001b[39m, encoding\u001b[38;5;241m=\u001b[39m\u001b[38;5;124m'\u001b[39m\u001b[38;5;124mutf-8\u001b[39m\u001b[38;5;124m'\u001b[39m) \u001b[38;5;28;01mas\u001b[39;00m file:\n\u001b[1;32m     16\u001b[0m         reader \u001b[38;5;241m=\u001b[39m csv\u001b[38;5;241m.\u001b[39mreader(file)\n",
      "\u001b[0;31mNameError\u001b[0m: name 'os' is not defined"
     ]
    }
   ],
   "source": [
    "### THE METACRITIC SCRAPER ###\n",
    "\n",
    "base_url = \"https://www.metacritic.com/browse/game/?releaseYearMin=1958&releaseYearMax=2024&page=\"\n",
    "\n",
    "headers = {\n",
    "    'User-Agent': 'Mozilla/5.0 (Windows NT 10.0; Win64; x64) AppleWebKit/537.36 (KHTML, like Gecko) Chrome/92.0.4515.107 Safari/537.36'\n",
    "}\n",
    "\n",
    "rows = []\n",
    "\n",
    "last_scraped_page = 0\n",
    "last_game_name = None\n",
    "\n",
    "if os.path.exists('MC_DF3.csv'):\n",
    "    with open('MC_DF3.csv', 'r', encoding='utf-8') as file:\n",
    "        reader = csv.reader(file)\n",
    "        rows = list(reader)\n",
    "        if len(rows) > 1:\n",
    "            last_game_name = rows[-1][0]\n",
    "            last_scraped_page = (len(rows) - 1) // 50 + 1\n",
    "\n",
    "games_data = []\n",
    "\n",
    "num_pages = 556\n",
    "\n",
    "counter = len(rows) - 1\n",
    "\n",
    "for page in range(last_scraped_page, num_pages + 1):\n",
    "    print(f\"Scraping page {page} of {num_pages}...\")\n",
    "    try:\n",
    "        response = requests.get(base_url + str(page), headers=headers, timeout=10)\n",
    "        response.raise_for_status()\n",
    "    except requests.exceptions.RequestException as e:\n",
    "        print(f\"Website isn't responding: {e}\")\n",
    "        break\n",
    "    \n",
    "    soup = BeautifulSoup(response.text, 'html.parser')\n",
    "    \n",
    "    games = soup.find_all('div', class_='c-finderProductCard')\n",
    "    \n",
    "    for game in games:\n",
    "        title_container = game.find('h3', class_='c-finderProductCard_titleHeading')\n",
    "        name = title_container.find_all('span')[1].get_text(strip=True)\n",
    "\n",
    "        score = game.find('div', class_='c-siteReviewScore').get_text(strip=True)\n",
    "        \n",
    "        release_date = game.find('div', class_='c-finderProductCard_meta').find('span').get_text(strip=True)\n",
    "        \n",
    "        games_data.append([name, score, release_date])\n",
    "        counter += 1\n",
    "        \n",
    "        if counter % 50 == 0:\n",
    "            with open('MC_DF3.csv', 'a', newline='', encoding='utf-8') as file:\n",
    "                writer = csv.writer(file)\n",
    "                if counter == 50 + len(rows) - 1:\n",
    "                    writer.writerow(['Name', 'Metacritic Score', 'Release Date'])\n",
    "                writer.writerows(games_data)\n",
    "            games_data = []\n",
    "            print(f\"Saved progress after {counter} games.\")\n",
    "\n",
    "    time.sleep(10)\n",
    "\n",
    "if games_data:\n",
    "    with open('MC_DF3.csv', 'a', newline='', encoding='utf-8') as file:\n",
    "        writer = csv.writer(file)\n",
    "        writer.writerows(games_data)\n",
    "\n",
    "print(\"Scraping completed. Time to relax!\")\n"
   ]
  }
 ],
 "metadata": {
  "kernelspec": {
   "display_name": "Python 3 (ipykernel)",
   "language": "python",
   "name": "python3"
  },
  "language_info": {
   "codemirror_mode": {
    "name": "ipython",
    "version": 3
   },
   "file_extension": ".py",
   "mimetype": "text/x-python",
   "name": "python",
   "nbconvert_exporter": "python",
   "pygments_lexer": "ipython3",
   "version": "3.11.7"
  }
 },
 "nbformat": 4,
 "nbformat_minor": 5
}
